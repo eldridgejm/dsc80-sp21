{
 "cells": [
  {
   "cell_type": "markdown",
   "metadata": {
    "slideshow": {
     "slide_type": "slide"
    }
   },
   "source": [
    "# Review Problems"
   ]
  },
  {
   "cell_type": "markdown",
   "metadata": {
    "slideshow": {
     "slide_type": "slide"
    }
   },
   "source": [
    "### Topics\n",
    "* Compute: Pandas Basics, `NaN`s, Grouping/Pivot, Joining, Matplotlib/Seaborn, Regex, HTML Parsing, Sklearn\n",
    "* Concepts: \n",
    "    - Messy Data, Imputation, Smoothing, Geo Data, \n",
    "    - Requests, Text Data (Cleaning, BOW, TF-IDF), Features, Bias-Variance, Model Evaluation, Inference"
   ]
  },
  {
   "cell_type": "code",
   "execution_count": 1,
   "metadata": {},
   "outputs": [],
   "source": [
    "%matplotlib inline\n",
    "import pandas as pd \n",
    "import numpy as np\n",
    "import matplotlib.pyplot as plt"
   ]
  },
  {
   "cell_type": "markdown",
   "metadata": {
    "slideshow": {
     "slide_type": "slide"
    }
   },
   "source": [
    "### Split-Apply-Combine\n",
    "\n",
    "* A DataFrame `boxes` contains the dimensions (`length, width, height`) of boxes made by 10 box-making machines.\n",
    "* The columns of the DataFrame are `machine_id, length, width, height`.\n",
    "* For each of the following functions `f`, what is the output of running the code:\n",
    "```\n",
    "boxes.groupby('machine_id').apply(f)\n",
    "```\n",
    "Is it a Series or DataFrame? What are the indices/columns? What are the dimensions? What does the data represent statistically?"
   ]
  },
  {
   "cell_type": "code",
   "execution_count": null,
   "metadata": {},
   "outputs": [],
   "source": [
    "f = lambda x: np.mean(x['length'] * x['width'] * x['height'])\n",
    "\n",
    "def f(x):\n",
    "    mean, median = x['length'].mean(), x['length'].median()\n",
    "    return pd.Series({'mean': mean, 'median': median})\n",
    "\n",
    "def f(x): \n",
    "    y = x.copy()\n",
    "    y['c'] = np.mean(x['length'] * x['width'] * x['height'])\n",
    "    return y\n",
    "\n",
    "def f(x):\n",
    "    v = x['length'] * x['width'] * x['height']\n",
    "    m, s = v.mean(), v.std()\n",
    "    return (v - m) / s\n",
    "\n"
   ]
  },
  {
   "cell_type": "markdown",
   "metadata": {
    "slideshow": {
     "slide_type": "slide"
    }
   },
   "source": [
    "### Groupby solutions\n",
    "\n",
    "1. Series with index machine id, values mean volume for machine\n",
    "2. DataFrame with index machine id, and columns giving mean/median of the box length for each machine\n",
    "3. DataFrame with multi-index (machine_id, df.index), columns same as df + the average volumne for the machine that made given box.\n",
    "4. Series with multi-index (machine_id, df.index), giving the standardized volume (by machine_id) of each box."
   ]
  },
  {
   "cell_type": "code",
   "execution_count": null,
   "metadata": {},
   "outputs": [],
   "source": [
    "boxes = pd.DataFrame({\n",
    "    'machine_id': np.random.randint(0, 10, size=100),\n",
    "    'length': np.random.normal(10, 1, size=100),\n",
    "    'width': np.random.normal(14, 1, size=100),\n",
    "    'height': np.random.normal(6, 1, size=100),\n",
    "\n",
    "})"
   ]
  },
  {
   "cell_type": "code",
   "execution_count": null,
   "metadata": {},
   "outputs": [],
   "source": [
    "boxes.head()"
   ]
  },
  {
   "cell_type": "code",
   "execution_count": null,
   "metadata": {},
   "outputs": [],
   "source": [
    "f = lambda x: np.mean(x['length'] * x['width'] * x['height'])\n",
    "\n",
    "boxes.groupby('machine_id').apply(f)"
   ]
  },
  {
   "cell_type": "code",
   "execution_count": null,
   "metadata": {},
   "outputs": [],
   "source": [
    "G = boxes.groupby('machine_id')\n",
    "grp = G.get_group(4)\n",
    "grp.head()\n"
   ]
  },
  {
   "cell_type": "code",
   "execution_count": null,
   "metadata": {},
   "outputs": [],
   "source": [
    "f(grp)"
   ]
  },
  {
   "cell_type": "code",
   "execution_count": null,
   "metadata": {},
   "outputs": [],
   "source": [
    "def f(x):\n",
    "    mean, median = x['length'].mean(), x['length'].median()\n",
    "    return pd.Series({'mean': mean, 'median': median})\n",
    "\n",
    "boxes.groupby('machine_id').apply(f)"
   ]
  },
  {
   "cell_type": "code",
   "execution_count": null,
   "metadata": {},
   "outputs": [],
   "source": [
    "G = boxes.groupby('machine_id')\n",
    "grp = G.get_group(4)\n",
    "grp.head()"
   ]
  },
  {
   "cell_type": "code",
   "execution_count": null,
   "metadata": {},
   "outputs": [],
   "source": [
    "f(grp)"
   ]
  },
  {
   "cell_type": "code",
   "execution_count": null,
   "metadata": {},
   "outputs": [],
   "source": [
    "def f(x): \n",
    "    y = x.copy()\n",
    "    y['c'] = np.mean(x['length'] * x['width'] * x['height'])\n",
    "    return y\n",
    "\n",
    "boxes.groupby('machine_id').apply(f).head()"
   ]
  },
  {
   "cell_type": "code",
   "execution_count": null,
   "metadata": {},
   "outputs": [],
   "source": [
    "G = boxes.groupby('machine_id')\n",
    "grp = G.get_group(4)\n",
    "grp.head()"
   ]
  },
  {
   "cell_type": "code",
   "execution_count": null,
   "metadata": {},
   "outputs": [],
   "source": [
    "f(grp).head()"
   ]
  },
  {
   "cell_type": "code",
   "execution_count": null,
   "metadata": {},
   "outputs": [],
   "source": [
    "\n",
    "def f(x):\n",
    "    v = x['length'] * x['width'] * x['height']\n",
    "    m, s = v.mean(), v.std()\n",
    "    return (v - m) / s\n",
    "\n",
    "boxes.groupby('machine_id').apply(f).head()"
   ]
  },
  {
   "cell_type": "code",
   "execution_count": null,
   "metadata": {},
   "outputs": [],
   "source": [
    "G = boxes.groupby('machine_id')\n",
    "grp = G.get_group(4)\n",
    "grp"
   ]
  },
  {
   "cell_type": "code",
   "execution_count": null,
   "metadata": {},
   "outputs": [],
   "source": [
    "f(grp)"
   ]
  },
  {
   "cell_type": "markdown",
   "metadata": {
    "slideshow": {
     "slide_type": "slide"
    }
   },
   "source": [
    "### Pivot Tables\n",
    "\n",
    "The pivot table takes simple column-wise data as input, and groups the entries into a two-dimensional table that provides a multidimensional summarization of the data.\n",
    "\n",
    "* Calculate the survival rate by Gender (M/F) for each passenger class\n",
    "* Calculate the median age of each passenger by passenger class and whether they survived\n",
    "\n",
    "Do it with `pivot_table`. Do it with `groupby` plus other methods."
   ]
  },
  {
   "cell_type": "code",
   "execution_count": null,
   "metadata": {},
   "outputs": [],
   "source": [
    "titanic = pd.read_csv('titanic.csv')\n",
    "titanic.head()"
   ]
  },
  {
   "cell_type": "markdown",
   "metadata": {
    "slideshow": {
     "slide_type": "slide"
    }
   },
   "source": [
    "### Pivot Solutions"
   ]
  },
  {
   "cell_type": "code",
   "execution_count": null,
   "metadata": {},
   "outputs": [],
   "source": [
    "titanic.pivot_table(index='Sex', columns='Pclass', values = \"Survived\", aggfunc=np.mean)"
   ]
  },
  {
   "cell_type": "code",
   "execution_count": null,
   "metadata": {},
   "outputs": [],
   "source": [
    "titanic.pivot_table(index='Pclass', columns='Survived', values='Age', aggfunc=np.median)"
   ]
  },
  {
   "cell_type": "markdown",
   "metadata": {
    "slideshow": {
     "slide_type": "slide"
    }
   },
   "source": [
    "### Tables and Statistics\n",
    "\n",
    "Given a table `cars` of cars and their colors, compute the conditional distribution of colors by car make.\n",
    "\n",
    "|car_make|car_color|\n",
    "|---|---|\n",
    "|Toyota|Black|\n",
    "|Honda|White|\n",
    "|Honda|Silver|\n",
    "|Audi|Red|\n",
    "|Ford|White|\n",
    "|GMC|White|"
   ]
  },
  {
   "cell_type": "markdown",
   "metadata": {
    "slideshow": {
     "slide_type": "slide"
    }
   },
   "source": [
    "### Table and Statistics Solutions"
   ]
  },
  {
   "cell_type": "code",
   "execution_count": null,
   "metadata": {},
   "outputs": [],
   "source": [
    "cars = pd.DataFrame({\n",
    "    'car_make': ['Toyota', 'Honda', 'Honda', 'Audi', 'Ford', 'GMC'],\n",
    "    'car_color': ['Black', 'White', 'Silver', 'Red', 'White', 'White']})\n",
    "cars"
   ]
  },
  {
   "cell_type": "code",
   "execution_count": null,
   "metadata": {},
   "outputs": [],
   "source": [
    "(\n",
    "    cars\n",
    "    .pivot_table(index='car_color', columns='car_make', aggfunc='size')\n",
    ")"
   ]
  },
  {
   "cell_type": "code",
   "execution_count": null,
   "metadata": {},
   "outputs": [],
   "source": [
    "(\n",
    "    cars\n",
    "    .pivot_table(index='car_color', columns='car_make', aggfunc='size')\n",
    "    .apply(lambda x:x/x.sum())\n",
    ")"
   ]
  },
  {
   "cell_type": "code",
   "execution_count": null,
   "metadata": {},
   "outputs": [],
   "source": [
    "(\n",
    "    cars\n",
    "    .pivot_table(index='car_color', columns='car_make', aggfunc='size')\n",
    "    .fillna(0)\n",
    "    .apply(lambda x:x/x.sum())\n",
    ")"
   ]
  },
  {
   "cell_type": "markdown",
   "metadata": {
    "slideshow": {
     "slide_type": "slide"
    }
   },
   "source": [
    "### Imputation\n",
    "\n",
    "* Suppose a DataFrame `cars` contains data on ticketed cars in San Diego. The DataFrame contains two columns: \n",
    "    - `time_of_day` (binary with values \"Day\" or \"Night\")\n",
    "    - `car_type` (values SUV, Van, Truck, Sedan, Coupe)\n",
    "* Assuming that `time_of_day` has no `NaN` values and `car_type` is MAR dependent on `time_of_day`, write code to impute `car_type` so the imputed column has:\n",
    "    - unbiased means conditional on values of `time_of_day`, and\n",
    "    - unbiased variance."
   ]
  },
  {
   "cell_type": "markdown",
   "metadata": {
    "slideshow": {
     "slide_type": "slide"
    }
   },
   "source": [
    "### Imputation Solution"
   ]
  },
  {
   "cell_type": "code",
   "execution_count": null,
   "metadata": {},
   "outputs": [],
   "source": [
    "# Solution\n",
    "# impute using distribution of car_type conditional on time of day\n",
    "\n",
    "def impute_with_distr(ser):\n",
    "    # not the fastest way (at all)? can you make it faster? (see lecture)\n",
    "    nonnulls = ser.dropna()\n",
    "    return ser.apply(lambda x:nonnulls.sample(n=1) if pd.isnull(x) else x)\n",
    "\n",
    "    \n",
    "cars.groupby('time_of_day').apply(impute_with_distr)"
   ]
  },
  {
   "cell_type": "markdown",
   "metadata": {
    "slideshow": {
     "slide_type": "slide"
    }
   },
   "source": [
    "### Summary: Multiple Imputation\n",
    "\n",
    "Suppose you want to calculate the correlation coefficient of `col_1` (with missing values) and `col_2` (without missing values). You want to do your analysis using multiple imputation for `col_1`.\n",
    "\n",
    "If `col_1` is MAR dependent on `col_D`, then\n",
    "\n",
    "* Impute `col_1` from a distribution (of `col_1` conditional on `col_D`). \n",
    "    - Do this many times creating N imputed columns.\n",
    "* For each imputed column, calculate the correlation coefficient of the imputed column and `col_2`.\n",
    "    - You now have `N` correlation coefficients.\n",
    "* Analyze this *distribution* of correlation coefficients. \n",
    "    - The mean could be considered you \"single\" result.\n"
   ]
  },
  {
   "attachments": {
    "image.png": {
     "image/png": "[encoded data removed]"
    }
   },
   "cell_type": "markdown",
   "metadata": {
    "slideshow": {
     "slide_type": "slide"
    }
   },
   "source": [
    "### Bias and Variance\n",
    "\n",
    "The plots below show the error for a regression model on a training and test set, for different values of a model parameter. For which values of the parameter is the model Under/Overfit? discuss what's occurring in each region?\n",
    "\n",
    "![image.png](attachment:image.png)"
   ]
  },
  {
   "cell_type": "markdown",
   "metadata": {
    "slideshow": {
     "slide_type": "slide"
    }
   },
   "source": [
    "### Bias/Variance Solution\n",
    "\n",
    "* High bias / Underfit: Train=high, Test=high\n",
    "* Overfit: Train=low, Test=high"
   ]
  },
  {
   "cell_type": "markdown",
   "metadata": {
    "slideshow": {
     "slide_type": "slide"
    }
   },
   "source": [
    "### Features\n",
    "\n",
    "Suppose a dataset of restaurant reviews is given in a DataFrame `reviews`.\n",
    "\n",
    "1. One-Hot Encode the 'rating' column: using `sklearn`'s `OneHotEncoder`, writing your own function, by hand.\n",
    "2. Ordinal Encode the 'rating' column: using `sklearn`'s `OrdinalEncoder`, writing your own function, by hand.\n",
    "3. Create two additional columns to `reviews`, each giving the 'distance between the review in a row's rating to the value `THREE`' in each feature space.\n",
    "\n",
    "|review_id|rating|\n",
    "|---|---|\n",
    "|9|TWO|\n",
    "|10|ONE|\n",
    "|11|ONE|\n",
    "|12|THREE|\n",
    "|13|FIVE|\n",
    "|14|FOUR|\n",
    "\n"
   ]
  },
  {
   "cell_type": "markdown",
   "metadata": {
    "slideshow": {
     "slide_type": "slide"
    }
   },
   "source": [
    "### Features Solutions\n",
    "\n",
    "* For code (by hand, and sklearn), see lecture!\n",
    "\n",
    "* by hand OneHot:\n",
    "```\n",
    "[\n",
    "    [0,1,0,0,0],\n",
    "    [1,0,0,0,0],\n",
    "    [1,0,0,0,0],\n",
    "    [0,0,1,0,0],\n",
    "    [0,0,0,0,1],\n",
    "    [0,0,0,1,0]\n",
    "]\n",
    "```\n",
    "\n",
    "* by hand Ordinal:\n",
    "```\n",
    "[\n",
    "    [2],\n",
    "    [1],\n",
    "    [1],\n",
    "    [3],\n",
    "    [5],\n",
    "    [4]\n",
    "]\n",
    "```\n",
    "\n",
    "* Distance from Three OneHot:\n",
    "\\[$\\sqrt{2}$, $\\sqrt{2}$, $\\sqrt{2}$, 0, $\\sqrt{2}$, $\\sqrt{2}$\\]\n",
    "\n",
    "* Distance from Three Ordinal:\n",
    "[2,2,0,2,1]"
   ]
  },
  {
   "cell_type": "markdown",
   "metadata": {
    "slideshow": {
     "slide_type": "slide"
    }
   },
   "source": [
    "### Text Features: Bag of Words\n",
    "\n",
    "* Explain the idea\n",
    "* What are the steps?\n",
    "* What are the limitations?"
   ]
  },
  {
   "cell_type": "markdown",
   "metadata": {
    "slideshow": {
     "slide_type": "slide"
    }
   },
   "source": [
    "### Bag of Words\n",
    "\n",
    "1. Create a list of all words appearing among *all* text ('bag of words')\n",
    "2. Create a vector, indexed by the distinct words, with counts of the words in that entry.\n",
    "3. Two text entries are similar if the sum of their matches is large.\n",
    "    - The sum of their matches is the same as the dot-product of the vectors!\n",
    "    \n",
    "First, create the bag of words by hand with the data below.\n",
    "\n",
    "Second, for each word in the vocabulary, find the \"closest documents\" to that word."
   ]
  },
  {
   "cell_type": "code",
   "execution_count": null,
   "metadata": {},
   "outputs": [],
   "source": [
    "sentences = [\"john likes to watch movies mary likes movies too\",\n",
    "             \"john also likes to watch football games\",\n",
    "             \"mary hates football games\"]\n",
    "\n",
    "pd.Series(sentences)"
   ]
  },
  {
   "cell_type": "markdown",
   "metadata": {},
   "source": [
    "1. for each sentence, remove multiple occurrences of the word and use the word count to represent this.\n",
    "\n",
    "```\n",
    "1. {\"john\":1,\"likes\":2,\"to\":1,\"watch\":1,\"movies\":2,\"mary\":1,\"too\":1}\n",
    "2. {\"john\":1,\"also\":1,\"likes\":1,\"to\":1,\"watch\":1,\"football\":1,\"games\":1}\n",
    "3. {\"mary\":1, \"hates\":1, \"football\":1, \"games\":1}\n",
    "```"
   ]
  },
  {
   "cell_type": "markdown",
   "metadata": {},
   "source": [
    "2. Combined word frequency for our entire document. All sentences are taken into account.\n",
    "\n",
    "```\n",
    "{\"likes\":2, \"watch\":2,\"football\":2,\"movies\":2,\"john\":2,\"to\":2,\"mary\":2,\"games\":2,\"too\":1,\"also\":1,\"hates\":1}\n",
    "```"
   ]
  },
  {
   "cell_type": "markdown",
   "metadata": {},
   "source": [
    "3. Create vectors for each of the sentences\n",
    "\n",
    "```\n",
    "john likes to watch movies. mary likes movies too.\n",
    "[2\t1\t0\t2\t1\t1\t1\t0\t1\t0\t0]\n",
    "john also likes to watch football games.\n",
    "[ 1\t 1\t1\t0\t1\t1\t0\t1\t0\t1\t0]\n",
    "mary hates football games\n",
    "[0\t0\t1\t0\t0\t0\t1\t1\t0\t0\t1]\n",
    "```"
   ]
  },
  {
   "cell_type": "markdown",
   "metadata": {
    "slideshow": {
     "slide_type": "slide"
    }
   },
   "source": [
    "### Limitations of BOW:\n",
    "\n",
    "1. The BOW model only considers if a known word occurs in a document or not. It does not care about meaning, context, and order in which they appear.\n",
    "\n",
    "2. For a large document, the vector size can be huge resulting in a lot of computation and time"
   ]
  },
  {
   "cell_type": "markdown",
   "metadata": {
    "slideshow": {
     "slide_type": "slide"
    }
   },
   "source": [
    "##  Term Frequency, Inverse Document Frequency\n",
    "\n",
    "How do we figure out which words are \"important\" in a document?\n",
    "\n",
    "1. The most common words often *don't* have much meaning!\n",
    "2. The very rare words are also less important!\n",
    "\n",
    "Goal: balance these two observations.\n",
    "Can you explain the idea?"
   ]
  },
  {
   "cell_type": "markdown",
   "metadata": {},
   "source": [
    "## Term Frequency, Inverse Document Frequency\n",
    "\n",
    "* The *term frequency* of a word $t$ in a document $d$, denoted ${\\rm tf}(t,d)$, is the likelihood of the term appearing in the document.\n",
    "* The *inverse document frequency* of a word $t$ in a set of documents $\\{d_i\\}$, denoted ${\\rm idf}(t,d)$ is: \n",
    "\n",
    "$$\\log(\\frac{{\\rm\\ total\\ number\\ of\\ documents}}{{\\rm number\\ of\\ documents\\ in\\ which\\ t\\ appears}})$$\n",
    "\n",
    "* The *tf-idf* of a term $t$ in document $d$ is given by the product: \n",
    "\n",
    "$${\\rm tfidf}(t,d) = {\\rm tf}(t,d) \\cdot {\\rm idf}(t)$$\n",
    "\n",
    "What is the tf-idf of 'mary' in the third 'document'?"
   ]
  },
  {
   "cell_type": "code",
   "execution_count": null,
   "metadata": {},
   "outputs": [],
   "source": [
    "sentences = [\"john likes to watch movies mary likes movies too\",\n",
    "             \"john also likes to watch football games\",\n",
    "             \"mary hates football games\"]\n",
    "\n",
    "pd.Series(sentences)"
   ]
  },
  {
   "cell_type": "code",
   "execution_count": null,
   "metadata": {},
   "outputs": [],
   "source": [
    "# the term frequency of 'mary' in the thid 'document'\n",
    "tf = sentences.iloc[2].count('mary') / (sentences.iloc[2].count(' ') + 1)\n",
    "tf"
   ]
  },
  {
   "cell_type": "code",
   "execution_count": null,
   "metadata": {},
   "outputs": [],
   "source": [
    "idf = np.log(len(sentences) / sentences.str.contains('mary').sum())\n",
    "idf"
   ]
  },
  {
   "cell_type": "code",
   "execution_count": null,
   "metadata": {},
   "outputs": [],
   "source": [
    "tf * idf"
   ]
  },
  {
   "cell_type": "markdown",
   "metadata": {
    "slideshow": {
     "slide_type": "slide"
    }
   },
   "source": [
    "## Regex review\n",
    "\n",
    "Use regular expression to match:\n",
    "\n",
    "a 10-digit phone number with dashes and parentheses:\n",
    "\n",
    "1. a 10-digit phone number with dashes and parentheses:\n",
    "`\n",
    "(847)812-4567   : valid\n",
    "(312)345-7512   : valid\n",
    "(345)5435674    : valid\n",
    "234-534-6434    : invalid \n",
    "`\n",
    "2. to capture 5-digit U.S. ZIP codes that end in \"22\" or \"30\" \n",
    "\n",
    "3. HTML tag matching:\n",
    "\n",
    "Useful Example: If you want to extract only a year,  parentheses `(` ,`)` will help you.\n",
    "```\n",
    "input = 'A 34-3456 12-05-2007, B 56-4532 11-11-2011, C 67-8945 12-01-2009'\n",
    "result = re.findall(r`\\d{2}-\\d{2}-(\\d{4})', input)  # r means \"raw\" string\n",
    "print(result)\n",
    "\n",
    "Output:\n",
    "[`2007', `2011', `2009']\n",
    "```\n",
    "\n",
    "\n",
    "You need to extract information available between `<td>` and `</td>` tags, excluding the first numerical index\n",
    "```\n",
    "html =    <tr align=\"center\"><td>1</td> <td>Noah</td></tr>\n",
    "          <tr align=\"center\"><td>2</td> <td>Liam</td></tr>\n",
    "          <tr align=\"center\"><td>3</td> <td>Ethan</td></tr>\n",
    "          <tr align=\"center\"><td>4</td> <td html>Michael</td></tr>\n",
    "```\n",
    "\n",
    "result:\n",
    "`\n",
    "['Noah', 'Liam', 'Ethan']\n",
    "`"
   ]
  },
  {
   "cell_type": "code",
   "execution_count": null,
   "metadata": {},
   "outputs": [],
   "source": [
    "import re\n",
    "# Answers:\n",
    "\n",
    "#1\n",
    "match1 = re.search(r'\\(\\d{3}\\)\\d{3}\\-?\\d{4}', '(847)812-4567)')\n",
    "#print(match1)\n",
    "\n",
    "#2 \n",
    "\n",
    "match2 = re.findall(r'\\b[0-9]{3}(22|30)\\b', \"92122\")\n",
    "#print(match2)\n",
    "\n",
    "#3 \n",
    "\n",
    "html = \"\"\"<tr align=\"center\"><td>1</td> <td>Noah</td></tr>\n",
    "          <tr align=\"center\"><td>2</td> <td>Liam</td></tr>\n",
    "          <tr align=\"center\"><td>3</td> <td>Ethan</td></tr>\n",
    "          <tr align=\"center\"><td>4</td> <td html>Michael</td></tr>\n",
    "       \"\"\"\n",
    "                    \n",
    "match3 = re.findall(r'<td>\\w+</td> <td>([a-zA-z]+)</td>', html)\n",
    "print(match3)"
   ]
  },
  {
   "cell_type": "markdown",
   "metadata": {},
   "source": [
    "Now do the opposite: try to predict the output:\n",
    "\n",
    "Which of the following matches:\n",
    "\n",
    "a. `(very )+(hard )?(unfair|fair) exam`\n",
    "\n",
    "|option|answer|\n",
    "|---|---|\n",
    "|1)|      very hard exam|\n",
    "|2)|      hard unfair exam|\n",
    "|3)|      very very hard fair exam|\n",
    "|4)|      very very very unfair exam|\n",
    "\n",
    "\n",
    "b. `<[^>]+>`\n",
    "\n",
    "|option|answer|\n",
    "|---|---|\n",
    "|1)|      `<an xml tag>`|\n",
    "|2)|      `<opentag> <closetag>`|\n",
    "|3)|      `</closetag>`|\n",
    "|4)|      `<>`|\n",
    "|5)|      `<with attribute=”77”>`|\n"
   ]
  },
  {
   "cell_type": "markdown",
   "metadata": {},
   "source": [
    "### Answers:\n",
    "\n",
    "a) 3, 4\n",
    "\n",
    "b) 1, 3, 5"
   ]
  },
  {
   "cell_type": "markdown",
   "metadata": {},
   "source": [
    "### Web Scraping and Beautiful Soup\n",
    "\n",
    "It creates a parse tree for parsed pages that can be used to extract data from HTML.\n",
    "\n",
    "html =\n",
    "```\n",
    "<html>\n",
    "    <head>\n",
    "        <title> Page title </title>\n",
    "    </head>\n",
    "\n",
    "    <body>\n",
    "        <h1> This is heading 1 </h1>\n",
    "        <p> This is a paragraph </p>\n",
    "        <p> This is another paragraph </p>\n",
    "\n",
    "\n",
    "        <h2> This is a heading 2 </h2>\n",
    "        <p> This is a paragraph </p>\n",
    "        <p> This is another paragraph </p>\n",
    "    </body>\n",
    "</html>\n",
    "```"
   ]
  },
  {
   "cell_type": "code",
   "execution_count": null,
   "metadata": {},
   "outputs": [],
   "source": [
    "html = \"\"\"\n",
    "<html>\n",
    "\t<head>\n",
    "\t\t<title> Page title </title>\n",
    "\t</head>\n",
    "\n",
    "\t<body>\n",
    "\t\t<h1> This is heading 1 </h1>\n",
    "\t\t<p> This is a paragraph </p>\n",
    "\t\t<p> This is another paragraph </p>\n",
    "        \n",
    "        \n",
    "        <h2> This is a heading 2 </h2>\n",
    "\t\t<p> This is a paragraph </p>\n",
    "\t\t<p> This is another paragraph </p>\n",
    "\t</body>\n",
    "</html>\n",
    "\"\"\""
   ]
  },
  {
   "cell_type": "code",
   "execution_count": null,
   "metadata": {},
   "outputs": [],
   "source": []
  },
  {
   "cell_type": "code",
   "execution_count": null,
   "metadata": {},
   "outputs": [],
   "source": [
    "# What is the output?\n",
    "\n",
    "from bs4 import BeautifulSoup\n",
    "soup = BeautifulSoup(html, 'html.parser')\n",
    "p = soup.find('p')\n",
    "p\n",
    "\n",
    "# How does the find work? What algorithm is used?"
   ]
  },
  {
   "cell_type": "code",
   "execution_count": null,
   "metadata": {},
   "outputs": [],
   "source": [
    "# What is the output?\n",
    "\n",
    "p = soup.find_all('p')\n",
    "p"
   ]
  },
  {
   "cell_type": "code",
   "execution_count": null,
   "metadata": {},
   "outputs": [],
   "source": [
    "# What is the output\n",
    "\n",
    "[x.text for x in soup.find_all('p')]"
   ]
  }
 ],
 "metadata": {
  "celltoolbar": "Slideshow",
  "kernelspec": {
   "display_name": "Python 3",
   "language": "python",
   "name": "python3"
  },
  "language_info": {
   "codemirror_mode": {
    "name": "ipython",
    "version": 3
   },
   "file_extension": ".py",
   "mimetype": "text/x-python",
   "name": "python",
   "nbconvert_exporter": "python",
   "pygments_lexer": "ipython3",
   "version": "3.7.1"
  },
  "livereveal": {
   "scroll": true,
   "transition": "none"
  }
 },
 "nbformat": 4,
 "nbformat_minor": 2
}
