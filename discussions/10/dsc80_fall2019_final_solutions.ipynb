{
 "cells": [
  {
   "cell_type": "markdown",
   "id": "junior-announcement",
   "metadata": {},
   "source": [
    "# DSC 80 Final, Version A\n",
    "## Fall 2019"
   ]
  },
  {
   "cell_type": "code",
   "execution_count": 1,
   "id": "obvious-closure",
   "metadata": {},
   "outputs": [],
   "source": [
    "import numpy as np\n",
    "import pandas as pd\n",
    "import re\n",
    "from bs4 import BeautifulSoup"
   ]
  },
  {
   "cell_type": "markdown",
   "id": "charming-moore",
   "metadata": {},
   "source": [
    "### Question 1"
   ]
  },
  {
   "cell_type": "markdown",
   "id": "fitting-filing",
   "metadata": {},
   "source": [
    "- a) B, D\n",
    "\n",
    "\n",
    "- b) A, D\n",
    "\n",
    "\n",
    "- c) B, C\n",
    "\n",
    "\n",
    "- d) A, D\n",
    "\n",
    "\n",
    "- e) A, C\n",
    "\n",
    "\n",
    "- f) A, C\n",
    "\n",
    "\n",
    "- g) C, D\n",
    "\n",
    "\n",
    "- h) A, D\n",
    "\n",
    "\n",
    "- i) A, B\n",
    "\n",
    "\n",
    "- j) B, C"
   ]
  },
  {
   "cell_type": "code",
   "execution_count": null,
   "id": "weighted-hanging",
   "metadata": {},
   "outputs": [],
   "source": [
    "# a) I like apples - I(1) like(1) apples(1) he(0) hates(0) cats(0)\n",
    "# b) He hates cats - "
   ]
  },
  {
   "cell_type": "markdown",
   "id": "proved-machinery",
   "metadata": {},
   "source": [
    "### Question 2"
   ]
  },
  {
   "cell_type": "markdown",
   "id": "coastal-bride",
   "metadata": {},
   "source": [
    "**a)**\n",
    "\n",
    "pattern = `'\\d{1,4}\\s[A-Za-z]+\\s[a-z]{2}\\.'`\n",
    "\n",
    "Match 1 to 4 numbers, space, one or more alphabets, space, 2 lower alphabets, fullstop\n",
    "\n",
    "Ans: A, C"
   ]
  },
  {
   "cell_type": "markdown",
   "id": "printable-christian",
   "metadata": {},
   "source": [
    "**b)**\n",
    "\n",
    "pattern = `'done!?$'`\n",
    "\n",
    "`?` represents the previous character is optional, `$` represents end of string. \n",
    "So, it maches anything that ends with `'done'` or `'done!'`\n",
    "\n",
    "Ans: A, C"
   ]
  },
  {
   "cell_type": "markdown",
   "id": "prerequisite-holmes",
   "metadata": {},
   "source": [
    "**c)**"
   ]
  },
  {
   "cell_type": "code",
   "execution_count": 6,
   "id": "similar-pencil",
   "metadata": {},
   "outputs": [
    {
     "data": {
      "text/plain": [
       "[<re.Match object; span=(0, 7), match='33 + 44'>,\n",
       " <re.Match object; span=(0, 7), match='33 - 44'>,\n",
       " <re.Match object; span=(0, 6), match='-33+44'>,\n",
       " <re.Match object; span=(0, 6), match='33+ 44'>,\n",
       " <re.Match object; span=(0, 9), match='33.0 + 44'>,\n",
       " None,\n",
       " None]"
      ]
     },
     "execution_count": 6,
     "metadata": {},
     "output_type": "execute_result"
    }
   ],
   "source": [
    "pattern = '^(-|\\+)?[0-9]+\\s?(-|\\+)\\s?[0-9]+$'\n",
    "inputs = ['33 + 44', '33 - 44', '-33+44', '33+ 44', '33.0 + 44', '33 * 44', '33']\n",
    "[re.search(pattern, input) for input in inputs]"
   ]
  },
  {
   "cell_type": "markdown",
   "id": "removed-crest",
   "metadata": {},
   "source": [
    "**d)**"
   ]
  },
  {
   "cell_type": "code",
   "execution_count": 8,
   "id": "satellite-authentication",
   "metadata": {},
   "outputs": [
    {
     "data": {
      "text/plain": [
       "True"
      ]
     },
     "execution_count": 8,
     "metadata": {},
     "output_type": "execute_result"
    }
   ],
   "source": [
    "pattern = 'ASAP|asap'\n",
    "re.sub(pattern, 'as soon as possible', 'come asap') == 'come as soon as possible'"
   ]
  },
  {
   "cell_type": "code",
   "execution_count": 7,
   "id": "dense-minimum",
   "metadata": {},
   "outputs": [],
   "source": [
    "# Asap\n",
    "# asaP\n",
    "# [Aa][Ss][Aa][Pp]"
   ]
  },
  {
   "cell_type": "markdown",
   "id": "ambient-chance",
   "metadata": {},
   "source": [
    "### Question 3"
   ]
  },
  {
   "cell_type": "markdown",
   "id": "front-compromise",
   "metadata": {},
   "source": [
    "**a)**"
   ]
  },
  {
   "cell_type": "code",
   "execution_count": 18,
   "id": "trying-decimal",
   "metadata": {},
   "outputs": [],
   "source": [
    "# html\n",
    "#     | head\n",
    "#         | title\n",
    "#     | body\n",
    "#         | h1\n",
    "#         | div\n",
    "#             | p\n",
    "#             | a\n",
    "#         | h2\n",
    "#         | div\n",
    "#         | img\n",
    "#         | p"
   ]
  },
  {
   "cell_type": "markdown",
   "id": "healthy-executive",
   "metadata": {},
   "source": [
    "**c)**"
   ]
  },
  {
   "cell_type": "code",
   "execution_count": 8,
   "id": "quick-trustee",
   "metadata": {},
   "outputs": [
    {
     "data": {
      "text/plain": [
       "<html>\n",
       "<head>\n",
       "<title> Building DOM </title>\n",
       "</head>\n",
       "<body>\n",
       "<h1> The fun is about to begin </h1>\n",
       "<div name=\"myDiv\">\n",
       "<p>I need to say something here</p>\n",
       "<a href=\"http://TakeMeToChurch.html\">lalala</a>\n",
       "</div>\n",
       "<h2> The fun never happened </h2>\n",
       "<div name=\"myDiv\">\n",
       "</div>\n",
       "<img src=\"final.gif\"/>\n",
       "<p> This is another paragraph </p>\n",
       "</body>\n",
       "</html>"
      ]
     },
     "execution_count": 8,
     "metadata": {},
     "output_type": "execute_result"
    }
   ],
   "source": [
    "with open(\"html_page.html\") as fp:\n",
    "    soup = BeautifulSoup(fp, \"html.parser\")\n",
    "soup"
   ]
  },
  {
   "cell_type": "code",
   "execution_count": 10,
   "id": "heated-calgary",
   "metadata": {},
   "outputs": [
    {
     "data": {
      "text/plain": [
       "<div name=\"myDiv\">\n",
       "<p>I need to say something here</p>\n",
       "<a href=\"http://TakeMeToChurch.html\">lalala</a>\n",
       "</div>"
      ]
     },
     "execution_count": 10,
     "metadata": {},
     "output_type": "execute_result"
    }
   ],
   "source": [
    "div = soup.find('div' )\n",
    "div"
   ]
  },
  {
   "cell_type": "markdown",
   "id": "coastal-channel",
   "metadata": {},
   "source": [
    "**d)**"
   ]
  },
  {
   "cell_type": "code",
   "execution_count": 14,
   "id": "toxic-draft",
   "metadata": {},
   "outputs": [
    {
     "data": {
      "text/plain": [
       "'I need to say something here'"
      ]
     },
     "execution_count": 14,
     "metadata": {},
     "output_type": "execute_result"
    }
   ],
   "source": [
    "div = soup.find_all('div', attrs={'name' : 'myDiv'})\n",
    "div[0].find('p').text"
   ]
  },
  {
   "cell_type": "markdown",
   "id": "palestinian-article",
   "metadata": {},
   "source": [
    "### Question 4"
   ]
  },
  {
   "cell_type": "code",
   "execution_count": 15,
   "id": "another-parker",
   "metadata": {},
   "outputs": [
    {
     "data": {
      "text/html": [
       "<div>\n",
       "<style scoped>\n",
       "    .dataframe tbody tr th:only-of-type {\n",
       "        vertical-align: middle;\n",
       "    }\n",
       "\n",
       "    .dataframe tbody tr th {\n",
       "        vertical-align: top;\n",
       "    }\n",
       "\n",
       "    .dataframe thead th {\n",
       "        text-align: right;\n",
       "    }\n",
       "</style>\n",
       "<table border=\"1\" class=\"dataframe\">\n",
       "  <thead>\n",
       "    <tr style=\"text-align: right;\">\n",
       "      <th></th>\n",
       "      <th>student</th>\n",
       "      <th>type</th>\n",
       "      <th>dest</th>\n",
       "      <th>miles</th>\n",
       "      <th>departure</th>\n",
       "    </tr>\n",
       "  </thead>\n",
       "  <tbody>\n",
       "    <tr>\n",
       "      <th>0</th>\n",
       "      <td>A1</td>\n",
       "      <td>car</td>\n",
       "      <td>SFO</td>\n",
       "      <td>120.5</td>\n",
       "      <td>2019-12-14 13:07:32</td>\n",
       "    </tr>\n",
       "    <tr>\n",
       "      <th>1</th>\n",
       "      <td>A2</td>\n",
       "      <td>train</td>\n",
       "      <td>LA</td>\n",
       "      <td>60.8</td>\n",
       "      <td>2019-12-15 14:08:43</td>\n",
       "    </tr>\n",
       "    <tr>\n",
       "      <th>2</th>\n",
       "      <td>A3</td>\n",
       "      <td>train</td>\n",
       "      <td>SFO</td>\n",
       "      <td>180.3</td>\n",
       "      <td>2019-12-11 11:23:43</td>\n",
       "    </tr>\n",
       "  </tbody>\n",
       "</table>\n",
       "</div>"
      ],
      "text/plain": [
       "  student   type dest  miles            departure\n",
       "0      A1    car  SFO  120.5  2019-12-14 13:07:32\n",
       "1      A2  train   LA   60.8  2019-12-15 14:08:43\n",
       "2      A3  train  SFO  180.3  2019-12-11 11:23:43"
      ]
     },
     "execution_count": 15,
     "metadata": {},
     "output_type": "execute_result"
    }
   ],
   "source": [
    "trips = pd.DataFrame({\n",
    "    'student': ['A1', 'A2', 'A3'],\n",
    "    'type': ['car', 'train', 'train'],\n",
    "    'dest': ['SFO', 'LA', 'SFO'],\n",
    "    'miles': [120.5, 60.8, 180.3],\n",
    "    'departure': ['2019-12-14 13:07:32', '2019-12-15 14:08:43', '2019-12-11 11:23:43']\n",
    "})\n",
    "trips"
   ]
  },
  {
   "cell_type": "code",
   "execution_count": 22,
   "id": "stone-prefix",
   "metadata": {},
   "outputs": [
    {
     "data": {
      "text/html": [
       "<div>\n",
       "<style scoped>\n",
       "    .dataframe tbody tr th:only-of-type {\n",
       "        vertical-align: middle;\n",
       "    }\n",
       "\n",
       "    .dataframe tbody tr th {\n",
       "        vertical-align: top;\n",
       "    }\n",
       "\n",
       "    .dataframe thead th {\n",
       "        text-align: right;\n",
       "    }\n",
       "</style>\n",
       "<table border=\"1\" class=\"dataframe\">\n",
       "  <thead>\n",
       "    <tr style=\"text-align: right;\">\n",
       "      <th></th>\n",
       "      <th>student</th>\n",
       "      <th>type</th>\n",
       "      <th>dest</th>\n",
       "      <th>miles</th>\n",
       "      <th>departure</th>\n",
       "    </tr>\n",
       "  </thead>\n",
       "  <tbody>\n",
       "    <tr>\n",
       "      <th>2</th>\n",
       "      <td>A3</td>\n",
       "      <td>train</td>\n",
       "      <td>SFO</td>\n",
       "      <td>180.3</td>\n",
       "      <td>2019-12-11 11:23:43</td>\n",
       "    </tr>\n",
       "  </tbody>\n",
       "</table>\n",
       "</div>"
      ],
      "text/plain": [
       "  student   type dest  miles            departure\n",
       "2      A3  train  SFO  180.3  2019-12-11 11:23:43"
      ]
     },
     "execution_count": 22,
     "metadata": {},
     "output_type": "execute_result"
    }
   ],
   "source": [
    "# a) # exclusive OR operation\n",
    "trips[(trips['type']=='train') != (trips['dest']=='LA')]"
   ]
  },
  {
   "cell_type": "code",
   "execution_count": 23,
   "id": "swiss-liability",
   "metadata": {},
   "outputs": [
    {
     "data": {
      "text/plain": [
       "1"
      ]
     },
     "execution_count": 23,
     "metadata": {},
     "output_type": "execute_result"
    }
   ],
   "source": [
    "trips[(trips['type']=='train') != (trips['dest']=='LA')].shape[0]"
   ]
  },
  {
   "cell_type": "code",
   "execution_count": 16,
   "id": "trained-duplicate",
   "metadata": {},
   "outputs": [
    {
     "data": {
      "text/plain": [
       "'A3'"
      ]
     },
     "execution_count": 16,
     "metadata": {},
     "output_type": "execute_result"
    }
   ],
   "source": [
    "# b) \n",
    "trips.sort_values('departure').iloc[0,0]"
   ]
  },
  {
   "cell_type": "code",
   "execution_count": 18,
   "id": "raised-printing",
   "metadata": {},
   "outputs": [
    {
     "data": {
      "text/plain": [
       "train    0.666667\n",
       "car      0.333333\n",
       "Name: type, dtype: float64"
      ]
     },
     "execution_count": 18,
     "metadata": {},
     "output_type": "execute_result"
    }
   ],
   "source": [
    "# c) d)\n",
    "trips['type'].value_counts(normalize=True)"
   ]
  },
  {
   "cell_type": "code",
   "execution_count": 26,
   "id": "measured-warner",
   "metadata": {},
   "outputs": [
    {
     "data": {
      "text/html": [
       "<div>\n",
       "<style scoped>\n",
       "    .dataframe tbody tr th:only-of-type {\n",
       "        vertical-align: middle;\n",
       "    }\n",
       "\n",
       "    .dataframe tbody tr th {\n",
       "        vertical-align: top;\n",
       "    }\n",
       "\n",
       "    .dataframe thead th {\n",
       "        text-align: right;\n",
       "    }\n",
       "</style>\n",
       "<table border=\"1\" class=\"dataframe\">\n",
       "  <thead>\n",
       "    <tr style=\"text-align: right;\">\n",
       "      <th></th>\n",
       "      <th>min</th>\n",
       "      <th>max</th>\n",
       "    </tr>\n",
       "    <tr>\n",
       "      <th>type</th>\n",
       "      <th></th>\n",
       "      <th></th>\n",
       "    </tr>\n",
       "  </thead>\n",
       "  <tbody>\n",
       "    <tr>\n",
       "      <th>car</th>\n",
       "      <td>120.5</td>\n",
       "      <td>120.5</td>\n",
       "    </tr>\n",
       "    <tr>\n",
       "      <th>train</th>\n",
       "      <td>60.8</td>\n",
       "      <td>180.3</td>\n",
       "    </tr>\n",
       "  </tbody>\n",
       "</table>\n",
       "</div>"
      ],
      "text/plain": [
       "         min    max\n",
       "type               \n",
       "car    120.5  120.5\n",
       "train   60.8  180.3"
      ]
     },
     "execution_count": 26,
     "metadata": {},
     "output_type": "execute_result"
    }
   ],
   "source": [
    "# e)\n",
    "trips.groupby('type')['miles'].agg(['min', 'max'])"
   ]
  },
  {
   "cell_type": "code",
   "execution_count": 27,
   "id": "affecting-possession",
   "metadata": {},
   "outputs": [
    {
     "data": {
      "text/plain": [
       "'SFO'"
      ]
     },
     "execution_count": 27,
     "metadata": {},
     "output_type": "execute_result"
    }
   ],
   "source": [
    "# f)\n",
    "dest_types = trips.groupby('dest')['type'].agg(['nunique'])\n",
    "dest_types.sort_values('nunique', ascending=False).index[0]"
   ]
  },
  {
   "cell_type": "code",
   "execution_count": 28,
   "id": "tribal-myanmar",
   "metadata": {},
   "outputs": [],
   "source": [
    "# g)\n",
    "# NMAR - Missingness depends on itself. Students didn't report who started late; \n",
    "# Campus didn't capture info initially when holidays started"
   ]
  },
  {
   "cell_type": "code",
   "execution_count": 29,
   "id": "hollow-mistress",
   "metadata": {},
   "outputs": [],
   "source": [
    "types = pd.DataFrame({\n",
    "        'type': ['bus', 'train', 'car'],\n",
    "        'mph': [45, 60, 57]\n",
    "})"
   ]
  },
  {
   "cell_type": "code",
   "execution_count": 30,
   "id": "framed-estimate",
   "metadata": {},
   "outputs": [],
   "source": [
    "# h)\n",
    "# Left join the types data using pd.merge\n",
    "# calculate total_travel_hrs = miles / mph\n",
    "# create arrival_dt_time = dept_dt_time + total_travel_hrs (pd.departure + pd.timedelta(hours=total_travel_hrs))\n",
    "# sort by arrival_dt_time in descending order and pick the top student"
   ]
  },
  {
   "cell_type": "code",
   "execution_count": 31,
   "id": "aquatic-humanitarian",
   "metadata": {},
   "outputs": [
    {
     "data": {
      "text/plain": [
       "'A2'"
      ]
     },
     "execution_count": 31,
     "metadata": {},
     "output_type": "execute_result"
    }
   ],
   "source": [
    "# i)\n",
    "df = pd.merge(trips, types, how ='left', on='type')\n",
    "df['travel_hrs'] = df['miles'] / df['mph']\n",
    "df['arrival'] = pd.to_datetime(df['departure']) + pd.to_timedelta(df['travel_hrs'], unit='hour')\n",
    "df.sort_values('arrival', ascending=False).iloc[0,0]"
   ]
  },
  {
   "cell_type": "markdown",
   "id": "latest-snapshot",
   "metadata": {},
   "source": [
    "### Question 5"
   ]
  },
  {
   "cell_type": "markdown",
   "id": "creative-fortune",
   "metadata": {},
   "source": [
    "**a)**\n",
    "\n",
    "TF-IDF can be zero in every document if IDF is zero.\n",
    "\n",
    "`IDF = log(total # docs/ # docs the term is present)`\n",
    "\n",
    "IDF is zero if a term is present in all documents - `it`, `was`, `the` , `of`, `,`"
   ]
  },
  {
   "cell_type": "markdown",
   "id": "intense-clock",
   "metadata": {},
   "source": [
    "**b)**\n",
    "\n",
    "We will first get IDF values\n",
    "\n",
    "`it = 0, was = 0, the = 0, of = 0, best = log(4/1) = 1.386, times = log(4/2) = 0.693, \n",
    "worst = 1.386, age = 0.693, wisdom = 1.386, foolishness = 1.386`\n",
    "\n",
    "Calculate `tf-idf` for each term in each document and take the word with maximum value\n",
    "\n",
    "Since tf is 1 for each word in each document, the deciding factor is idf\n",
    "\n",
    "Hence the answer is - `best`, `worst`, `wisdom`, `foolishness`\n",
    "\n",
    "Note: IF-IDF is very intuitive metric that you must be guessing the answer before mathematically calculating for each token"
   ]
  },
  {
   "cell_type": "markdown",
   "id": "palestinian-diana",
   "metadata": {},
   "source": [
    "- Note that sklearn IDF calculation includes smoothening\n",
    "\n",
    "- `IDF = log(N+1 / df+1) + 1 (instead of log(N/df))`"
   ]
  },
  {
   "cell_type": "markdown",
   "id": "declared-engagement",
   "metadata": {},
   "source": [
    "**c)**\n",
    "\n",
    "`was`, `of`, `,`, `the` - all indicate unigram language model. \n",
    "\n",
    "There is no evidence of `n-1` or `n-2` word dependence, hence not bi-gram or tri-gram model\n",
    "\n",
    "Uniform LM can also be eliminated since we see high probable words more frequent than low probable ones."
   ]
  },
  {
   "cell_type": "markdown",
   "id": "northern-charles",
   "metadata": {},
   "source": [
    "### Question 6"
   ]
  },
  {
   "cell_type": "code",
   "execution_count": 11,
   "id": "limiting-halifax",
   "metadata": {},
   "outputs": [
    {
     "data": {
      "text/html": [
       "<style>\n",
       "table {align:center;display:block}\n",
       "</style>\n"
      ],
      "text/plain": [
       "<IPython.core.display.HTML object>"
      ]
     },
     "metadata": {},
     "output_type": "display_data"
    }
   ],
   "source": [
    "%%html\n",
    "<style>\n",
    "table {align:center;display:block}\n",
    "</style>"
   ]
  },
  {
   "cell_type": "markdown",
   "id": "genetic-particular",
   "metadata": {},
   "source": [
    "| responser_id | response |\n",
    "| --- | --- |\n",
    "| 0 | strongly disagree |\n",
    "| 1 | strongly agree |\n",
    "| 2 | disagree |\n",
    "| 3 | neutral |\n",
    "| 4 | neutral |\n",
    "\n",
    "Note that the possible responses are: `strongly disagree`, `disagree`, `neutral`, `agree`, `strongly agree`\n",
    "\n",
    "#### One Hot Encoding\n",
    "We give the above list to `categories` in `OneHotEncoder`\n",
    "\n",
    "| | | | | | |\n",
    "| --- | --- | --- | --- | --- | --- |\n",
    "| 0 | 1 | 0 | 0 | 0 | 0 |\n",
    "| 1 | 0 | 0 | 0 | 0 | 1 |\n",
    "| 2 | 0 | 1 | 0 | 0 | 0 |\n",
    "| 3 | 0 | 0 | 1 | 0 | 0 |\n",
    "| 4 | 0 | 0 | 1 | 0 | 0 |\n",
    "\n",
    "#### Ordinal Encoding\n",
    "We give the above list to `categories` in `OrdinalEncoder`\n",
    "\n",
    "| | |\n",
    "| --- | --- |\n",
    "| 0 | 0 |\n",
    "| 1 | 4 |\n",
    "| 2 | 1 |\n",
    "| 3 | 2 |\n",
    "| 4 | 2 |\n",
    "\n",
    "#### Distance\n",
    "\n",
    "**False** - The distance between 1-4 is greater in Ordinal as there is one additional level in between as one_hot treats all levels equally and distance between any two different levels is same"
   ]
  },
  {
   "cell_type": "markdown",
   "id": "hearing-shower",
   "metadata": {},
   "source": [
    "### Question 7"
   ]
  },
  {
   "cell_type": "code",
   "execution_count": 14,
   "id": "rural-communications",
   "metadata": {},
   "outputs": [],
   "source": [
    "from sklearn.preprocessing import OneHotEncoder\n",
    "from sklearn.preprocessing import FunctionTransformer\n",
    "from sklearn.preprocessing import StandardScaler\n",
    "from sklearn.compose import ColumnTransformer\n",
    "from sklearn.model_selection import train_test_split\n",
    "from sklearn.tree import DecisionTreeClassifier"
   ]
  },
  {
   "cell_type": "code",
   "execution_count": null,
   "id": "incredible-medication",
   "metadata": {},
   "outputs": [],
   "source": [
    "# Defining feature sets\n",
    "nominal_cols = ['type', 'dest']\n",
    "date_cols = ['dept']\n",
    "numerical_cols = ['miles']\n",
    "output_col = ['OnTime']\n",
    "\n",
    "# Defining feature transformation for each feature set\n",
    "nominal_pipeline = Pipeline([\n",
    "    ('onehot', OneHotEncoder(handle_unknown = 'ignore'))\n",
    "])\n",
    "\n",
    "date_pipeline = Pipeline([\n",
    "    ('time2unix', FunctionTransformer(time2unix)), #assume it returns numerical data\n",
    "    ('std_scaling', StandardScaler())\n",
    "])\n",
    "\n",
    "numerical_pipeline = Pipeline([\n",
    "    ('std_scaling', StandardScaler())\n",
    "])\n",
    "\n",
    "# Composing all transformations\n",
    "feats = ColumnTransformer([\n",
    "    ('nonimal', nominal_pipeline, nominal_cols),\n",
    "    ('time', date_pipeline, date_cols),\n",
    "    ('numerical', numerical_pipeline, numerical_cols),\n",
    "])\n",
    "\n",
    "# Creating a classifier pipeline\n",
    "clf = DecisionTreeClassifier()\n",
    "\n",
    "p1 = Pipeline([\n",
    "    ('feats', feats),\n",
    "    ('clf', clf)\n",
    "])\n",
    "\n",
    "X_train, y_train, X_test, y_test = train_test_split(trips[nominal_cols+date_cols+numerical_cols], \n",
    "                                                    trips[output_col], test_size=0.3, random_state=42)"
   ]
  },
  {
   "cell_type": "markdown",
   "id": "authentic-upgrade",
   "metadata": {},
   "source": [
    "### Question 8"
   ]
  },
  {
   "cell_type": "code",
   "execution_count": null,
   "id": "geographic-greeting",
   "metadata": {},
   "outputs": [],
   "source": [
    "p1 = Pipeline([('preproc', preproc_pl), ('clf', clf)])\n",
    "\n",
    "X_train, y_train, X_test, y_test = train_test_split(data.drop('y', axis=1), data['y'], test_size=0.3, random_state=42)\n",
    "\n",
    "p1.fit(X_train, y_train)\n",
    "\n",
    "p1.score(X_test, y_test)"
   ]
  }
 ],
 "metadata": {
  "kernelspec": {
   "display_name": "Python 3",
   "language": "python",
   "name": "python3"
  },
  "language_info": {
   "codemirror_mode": {
    "name": "ipython",
    "version": 3
   },
   "file_extension": ".py",
   "mimetype": "text/x-python",
   "name": "python",
   "nbconvert_exporter": "python",
   "pygments_lexer": "ipython3",
   "version": "3.8.8"
  }
 },
 "nbformat": 4,
 "nbformat_minor": 5
}
